{
 "cells": [
  {
   "cell_type": "code",
   "execution_count": 1,
   "metadata": {},
   "outputs": [],
   "source": [
    "import numpy as np\n",
    "from tensorflow import keras\n",
    "from keras.preprocessing.text import one_hot\n",
    "from keras.preprocessing.sequence import pad_sequences\n",
    "from keras.models import Sequential\n",
    "from keras.layers import Dense\n",
    "from keras.layers import Flatten\n",
    "from keras.layers import Embedding"
   ]
  },
  {
   "cell_type": "code",
   "execution_count": 2,
   "metadata": {},
   "outputs": [],
   "source": [
    "reviews = [\n",
    "    'nice food',\n",
    "    'amazing restaurant',\n",
    "    'too good',\n",
    "    'just loved it!',\n",
    "    'will go again',\n",
    "    'horrible food',\n",
    "    'never go there',\n",
    "    'poor service',\n",
    "    'poor quality',\n",
    "    'needs improvemnt'\n",
    "]\n",
    "\n",
    "sentiment = np.array([1,1,1,1,1,0,0,0,0,0,])"
   ]
  },
  {
   "cell_type": "code",
   "execution_count": 4,
   "metadata": {},
   "outputs": [
    {
     "data": {
      "text/plain": [
       "[13, 23]"
      ]
     },
     "execution_count": 4,
     "metadata": {},
     "output_type": "execute_result"
    }
   ],
   "source": [
    "one_hot('amazing restaurant',30)"
   ]
  },
  {
   "cell_type": "code",
   "execution_count": 6,
   "metadata": {},
   "outputs": [
    {
     "name": "stdout",
     "output_type": "stream",
     "text": [
      "[[17, 28], [13, 23], [22, 14], [4, 13, 7], [7, 25, 9], [8, 28], [22, 25, 14], [9, 16], [9, 2], [17, 16]]\n"
     ]
    }
   ],
   "source": [
    "vocab_size = 30\n",
    "encoded_reviews = [one_hot(d,vocab_size) for d in reviews]\n",
    "print(encoded_reviews)"
   ]
  },
  {
   "cell_type": "code",
   "execution_count": 9,
   "metadata": {},
   "outputs": [
    {
     "data": {
      "text/plain": [
       "array([[17, 28,  0,  0],\n",
       "       [13, 23,  0,  0],\n",
       "       [22, 14,  0,  0],\n",
       "       [ 4, 13,  7,  0],\n",
       "       [ 7, 25,  9,  0],\n",
       "       [ 8, 28,  0,  0],\n",
       "       [22, 25, 14,  0],\n",
       "       [ 9, 16,  0,  0],\n",
       "       [ 9,  2,  0,  0],\n",
       "       [17, 16,  0,  0]])"
      ]
     },
     "execution_count": 9,
     "metadata": {},
     "output_type": "execute_result"
    }
   ],
   "source": [
    "max_length = 4\n",
    "padded_reviews = pad_sequences(encoded_reviews,maxlen=max_length,padding='post')\n",
    "padded_reviews"
   ]
  },
  {
   "cell_type": "code",
   "execution_count": 16,
   "metadata": {},
   "outputs": [],
   "source": [
    "embeded_vector_size = 4\n",
    "\n",
    "model = Sequential()\n",
    "model.add(Embedding(vocab_size,embeded_vector_size,input_length=max_length,name='embedding'))\n",
    "model.add(Flatten())\n",
    "model.add(Dense(1,activation='sigmoid'))"
   ]
  },
  {
   "cell_type": "code",
   "execution_count": 17,
   "metadata": {},
   "outputs": [],
   "source": [
    "x = padded_reviews\n",
    "y = sentiment"
   ]
  },
  {
   "cell_type": "code",
   "execution_count": 18,
   "metadata": {},
   "outputs": [
    {
     "name": "stdout",
     "output_type": "stream",
     "text": [
      "Model: \"sequential_1\"\n",
      "_________________________________________________________________\n",
      " Layer (type)                Output Shape              Param #   \n",
      "=================================================================\n",
      " embedding (Embedding)       (None, 4, 4)              120       \n",
      "                                                                 \n",
      " flatten (Flatten)           (None, 16)                0         \n",
      "                                                                 \n",
      " dense (Dense)               (None, 1)                 17        \n",
      "                                                                 \n",
      "=================================================================\n",
      "Total params: 137 (548.00 Byte)\n",
      "Trainable params: 137 (548.00 Byte)\n",
      "Non-trainable params: 0 (0.00 Byte)\n",
      "_________________________________________________________________\n"
     ]
    }
   ],
   "source": [
    "model.compile(\n",
    "    optimizer='adam',loss='binary_crossentropy',\n",
    "    metrics=['accuracy']    \n",
    ")\n",
    "\n",
    "model.summary()"
   ]
  },
  {
   "cell_type": "code",
   "execution_count": 19,
   "metadata": {},
   "outputs": [
    {
     "data": {
      "text/plain": [
       "<keras.src.callbacks.History at 0x24c49990750>"
      ]
     },
     "execution_count": 19,
     "metadata": {},
     "output_type": "execute_result"
    }
   ],
   "source": [
    "model.fit(x,y,epochs=50,verbose=0)"
   ]
  },
  {
   "cell_type": "code",
   "execution_count": 20,
   "metadata": {},
   "outputs": [
    {
     "name": "stdout",
     "output_type": "stream",
     "text": [
      "1/1 [==============================] - 0s 176ms/step - loss: 0.6431 - accuracy: 1.0000\n"
     ]
    }
   ],
   "source": [
    "# evalute the model\n",
    "loss,accuracy = model.evaluate(x,y)"
   ]
  },
  {
   "cell_type": "code",
   "execution_count": 21,
   "metadata": {},
   "outputs": [
    {
     "data": {
      "text/plain": [
       "1.0"
      ]
     },
     "execution_count": 21,
     "metadata": {},
     "output_type": "execute_result"
    }
   ],
   "source": [
    "accuracy"
   ]
  },
  {
   "cell_type": "code",
   "execution_count": 22,
   "metadata": {},
   "outputs": [
    {
     "data": {
      "text/plain": [
       "array([[ 0.06324863, -0.10214502, -0.0674599 , -0.01046341],\n",
       "       [ 0.04166177, -0.04825228,  0.0335428 ,  0.02081189],\n",
       "       [ 0.07484444, -0.03466138, -0.10121329, -0.03888288],\n",
       "       [-0.01926578, -0.04900428, -0.00195087, -0.03527943],\n",
       "       [ 0.00266096, -0.00617511, -0.04770136, -0.00017559],\n",
       "       [ 0.02263984, -0.04137061,  0.03193102, -0.04848539],\n",
       "       [-0.03706175, -0.01925739,  0.00619365,  0.00801362],\n",
       "       [ 0.01480985, -0.02463184,  0.05162015, -0.02208904],\n",
       "       [-0.09213721,  0.00604849,  0.00613189,  0.08329204],\n",
       "       [-0.08499371,  0.02318339,  0.0926804 ,  0.03779032],\n",
       "       [ 0.00988166, -0.0165254 , -0.02372496,  0.03558811],\n",
       "       [-0.04828534,  0.01890152, -0.02325821, -0.045688  ],\n",
       "       [-0.01794291,  0.03389604,  0.03267975,  0.00656718],\n",
       "       [-0.01582082, -0.08596742, -0.02820529,  0.02238765],\n",
       "       [-0.0825067 ,  0.02945445, -0.07000019,  0.09354204],\n",
       "       [ 0.00972728,  0.02857692,  0.04173404, -0.00930341],\n",
       "       [ 0.0496726 , -0.09124663, -0.03045946, -0.07667533],\n",
       "       [ 0.04652496, -0.04724308, -0.0172611 ,  0.01249396],\n",
       "       [ 0.03433812, -0.03211862,  0.02921362, -0.02192423],\n",
       "       [-0.02174938, -0.0084282 ,  0.01664212, -0.04288108],\n",
       "       [-0.0136537 , -0.04125717,  0.03966835,  0.01488358],\n",
       "       [-0.04925165,  0.03750109, -0.01769675, -0.02844653],\n",
       "       [-0.01540578, -0.00748744,  0.07198635, -0.00484445],\n",
       "       [-0.04151164,  0.01393158,  0.0549858 ,  0.00691061],\n",
       "       [ 0.01075155, -0.03744759,  0.03027615, -0.04877857],\n",
       "       [ 0.05042403, -0.0451368 , -0.02977276, -0.03106703],\n",
       "       [-0.03103499, -0.02234354,  0.00094549,  0.01512465],\n",
       "       [-0.02405832, -0.04641358, -0.0169989 , -0.01053399],\n",
       "       [-0.00442283, -0.02799524, -0.0137523 ,  0.05619532],\n",
       "       [-0.00966648, -0.04594618,  0.0031808 ,  0.01019887]],\n",
       "      dtype=float32)"
      ]
     },
     "execution_count": 22,
     "metadata": {},
     "output_type": "execute_result"
    }
   ],
   "source": [
    "model.get_layer('embedding').get_weights()[0]"
   ]
  },
  {
   "cell_type": "code",
   "execution_count": 23,
   "metadata": {},
   "outputs": [
    {
     "data": {
      "text/plain": [
       "30"
      ]
     },
     "execution_count": 23,
     "metadata": {},
     "output_type": "execute_result"
    }
   ],
   "source": [
    "weights = model.get_layer('embedding').get_weights()[0]\n",
    "len(weights)"
   ]
  },
  {
   "cell_type": "code",
   "execution_count": 25,
   "metadata": {},
   "outputs": [
    {
     "data": {
      "text/plain": [
       "array([ 0.04652496, -0.04724308, -0.0172611 ,  0.01249396], dtype=float32)"
      ]
     },
     "execution_count": 25,
     "metadata": {},
     "output_type": "execute_result"
    }
   ],
   "source": [
    "weights[17]"
   ]
  }
 ],
 "metadata": {
  "kernelspec": {
   "display_name": "Python 3",
   "language": "python",
   "name": "python3"
  },
  "language_info": {
   "codemirror_mode": {
    "name": "ipython",
    "version": 3
   },
   "file_extension": ".py",
   "mimetype": "text/x-python",
   "name": "python",
   "nbconvert_exporter": "python",
   "pygments_lexer": "ipython3",
   "version": "3.11.4"
  },
  "orig_nbformat": 4
 },
 "nbformat": 4,
 "nbformat_minor": 2
}
