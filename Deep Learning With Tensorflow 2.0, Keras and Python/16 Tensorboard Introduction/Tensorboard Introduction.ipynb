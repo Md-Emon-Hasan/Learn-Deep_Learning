{
 "cells": [
  {
   "cell_type": "markdown",
   "metadata": {},
   "source": [
    "Tensorboard demo using handwritten digits classification using neural network"
   ]
  },
  {
   "cell_type": "markdown",
   "metadata": {},
   "source": [
    "In this notebook we will classify handwritten digits using a simple neural network which has only input and output layers. We will than add a hidden layer and see how the performance of the model improves"
   ]
  },
  {
   "cell_type": "code",
   "execution_count": 1,
   "metadata": {},
   "outputs": [],
   "source": [
    "import tensorflow as tf\n",
    "from tensorflow import keras\n",
    "from matplotlib import pyplot as plt\n",
    "%matplotlib inline\n",
    "import numpy as np"
   ]
  },
  {
   "cell_type": "code",
   "execution_count": 2,
   "metadata": {},
   "outputs": [],
   "source": [
    "(x_train,y_train),(x_test,y_test) = keras.datasets.mnist.load_data()"
   ]
  },
  {
   "cell_type": "code",
   "execution_count": 3,
   "metadata": {},
   "outputs": [
    {
     "data": {
      "text/plain": [
       "60000"
      ]
     },
     "execution_count": 3,
     "metadata": {},
     "output_type": "execute_result"
    }
   ],
   "source": [
    "len(x_train)"
   ]
  },
  {
   "cell_type": "code",
   "execution_count": 4,
   "metadata": {},
   "outputs": [
    {
     "data": {
      "text/plain": [
       "10000"
      ]
     },
     "execution_count": 4,
     "metadata": {},
     "output_type": "execute_result"
    }
   ],
   "source": [
    "len(x_test)"
   ]
  },
  {
   "cell_type": "code",
   "execution_count": 5,
   "metadata": {},
   "outputs": [
    {
     "data": {
      "text/plain": [
       "(28, 28)"
      ]
     },
     "execution_count": 5,
     "metadata": {},
     "output_type": "execute_result"
    }
   ],
   "source": [
    "x_train[0].shape"
   ]
  },
  {
   "cell_type": "code",
   "execution_count": 6,
   "metadata": {},
   "outputs": [
    {
     "data": {
      "text/plain": [
       "<matplotlib.image.AxesImage at 0x17df0e3bd90>"
      ]
     },
     "execution_count": 6,
     "metadata": {},
     "output_type": "execute_result"
    },
    {
     "data": {
      "image/png": "[encoded data removed]",
      "text/plain": [
       "<Figure size 480x480 with 1 Axes>"
      ]
     },
     "metadata": {},
     "output_type": "display_data"
    }
   ],
   "source": [
    "plt.matshow(x_train[0])"
   ]
  },
  {
   "cell_type": "code",
   "execution_count": 7,
   "metadata": {},
   "outputs": [
    {
     "data": {
      "text/plain": [
       "5"
      ]
     },
     "execution_count": 7,
     "metadata": {},
     "output_type": "execute_result"
    }
   ],
   "source": [
    "y_train[0]"
   ]
  },
  {
   "cell_type": "code",
   "execution_count": 8,
   "metadata": {},
   "outputs": [],
   "source": [
    "x_train = x_train / 255\n",
    "x_test = x_test / 255"
   ]
  },
  {
   "cell_type": "code",
   "execution_count": 9,
   "metadata": {},
   "outputs": [],
   "source": [
    "x_train_flattened = x_train.reshape(len(x_train),28*28)\n",
    "x_test_flattended = x_test.reshape(len(x_test),28*28)"
   ]
  },
  {
   "cell_type": "code",
   "execution_count": 10,
   "metadata": {},
   "outputs": [
    {
     "data": {
      "text/plain": [
       "(60000, 784)"
      ]
     },
     "execution_count": 10,
     "metadata": {},
     "output_type": "execute_result"
    }
   ],
   "source": [
    "x_train_flattened.shape"
   ]
  },
  {
   "cell_type": "markdown",
   "metadata": {},
   "source": [
    "Using Flatten layer so that we don't have to call .reshape on input dataset"
   ]
  },
  {
   "cell_type": "code",
   "execution_count": 11,
   "metadata": {},
   "outputs": [
    {
     "name": "stdout",
     "output_type": "stream",
     "text": [
      "Epoch 1/5\n",
      "1875/1875 [==============================] - 6s 3ms/step - loss: 0.2771 - accuracy: 0.9205\n",
      "Epoch 2/5\n",
      "1875/1875 [==============================] - 6s 3ms/step - loss: 0.1246 - accuracy: 0.9630\n",
      "Epoch 3/5\n",
      "1875/1875 [==============================] - 6s 3ms/step - loss: 0.0866 - accuracy: 0.9738\n",
      "Epoch 4/5\n",
      "1875/1875 [==============================] - 5s 3ms/step - loss: 0.0653 - accuracy: 0.9807\n",
      "Epoch 5/5\n",
      "1875/1875 [==============================] - 6s 3ms/step - loss: 0.0538 - accuracy: 0.9838\n"
     ]
    },
    {
     "data": {
      "text/plain": [
       "<keras.src.callbacks.History at 0x17d984d0450>"
      ]
     },
     "execution_count": 11,
     "metadata": {},
     "output_type": "execute_result"
    }
   ],
   "source": [
    "model = keras.Sequential([\n",
    "    keras.layers.Flatten(input_shape=(28,28)),\n",
    "    keras.layers.Dense(100,activation='relu'),\n",
    "    keras.layers.Dense(10,activation='sigmoid')\n",
    "])\n",
    "\n",
    "model.compile(optimizer='adam',\n",
    "              loss='sparse_categorical_crossentropy',\n",
    "              metrics=['accuracy'])\n",
    "\n",
    "tb_callback = tf.keras.callbacks.TensorBoard(log_dir='logs/',histogram_freq=1)\n",
    "\n",
    "model.fit(x_train,y_train,epochs=5,callbacks=[tb_callback])"
   ]
  },
  {
   "cell_type": "code",
   "execution_count": 12,
   "metadata": {},
   "outputs": [
    {
     "data": {
      "text/plain": [
       "[array([[ 0.05014524, -0.04577167,  0.00130687, ..., -0.02276035,\n",
       "         -0.04127941, -0.03680706],\n",
       "        [ 0.04273771, -0.04817957,  0.05579206, ..., -0.0329875 ,\n",
       "         -0.01685821, -0.06916273],\n",
       "        [-0.02109139,  0.07503548, -0.06019146, ..., -0.03682601,\n",
       "         -0.0252599 ,  0.06679679],\n",
       "        ...,\n",
       "        [ 0.0187866 ,  0.00760484, -0.01562539, ..., -0.04497061,\n",
       "         -0.06061181, -0.04113466],\n",
       "        [-0.04613047, -0.05255899,  0.04826531, ...,  0.00268544,\n",
       "         -0.05734266, -0.05077328],\n",
       "        [ 0.05344319, -0.08109868, -0.03145315, ..., -0.06294325,\n",
       "         -0.08044084,  0.03901526]], dtype=float32),\n",
       " array([-0.02698852, -0.10519971,  0.06694975, -0.05529471, -0.02216614,\n",
       "         0.0670924 , -0.03221249, -0.08737103, -0.02320046,  0.02204584,\n",
       "         0.05904856,  0.16592513,  0.02437419, -0.03539124,  0.09232241,\n",
       "        -0.0738994 , -0.09465998,  0.04317654, -0.04874386,  0.17695987,\n",
       "         0.17849267, -0.00694839, -0.16627721,  0.16679658, -0.0796483 ,\n",
       "        -0.02080895,  0.02734536,  0.01587039, -0.0632359 ,  0.06785499,\n",
       "        -0.02618183, -0.00304181,  0.02869326,  0.11278079, -0.06471235,\n",
       "        -0.01780222,  0.14360859,  0.0348445 ,  0.00051656,  0.16832526,\n",
       "        -0.18421727,  0.18168397,  0.1886989 ,  0.13798568, -0.01341277,\n",
       "        -0.09918206,  0.04233393,  0.11638875,  0.12924683,  0.02135437,\n",
       "         0.01367936,  0.057465  , -0.17789908, -0.12787755, -0.01089242,\n",
       "         0.06507521,  0.08283082,  0.07829187, -0.01162752, -0.13934788,\n",
       "         0.02022246, -0.06101073, -0.0057552 , -0.05083549,  0.1884066 ,\n",
       "         0.05060856,  0.05578546,  0.0846326 ,  0.09714441, -0.05114886,\n",
       "         0.0512606 , -0.13981834,  0.11689921,  0.1299799 ,  0.28186902,\n",
       "        -0.10685803,  0.07158484,  0.0878755 ,  0.08322442,  0.02657075,\n",
       "         0.17271662,  0.18560606, -0.00206057, -0.00410235,  0.04761154,\n",
       "         0.23876747,  0.12947614, -0.10709534, -0.05646975, -0.01362741,\n",
       "        -0.10819405,  0.18330133,  0.00820318,  0.08629063,  0.00282962,\n",
       "        -0.01441936, -0.0156477 , -0.10829063, -0.03556059,  0.07729129],\n",
       "       dtype=float32),\n",
       " array([[ 1.34928823e-01,  3.40208471e-01, -3.15461248e-01,\n",
       "         -4.86332983e-01,  3.82721812e-01, -4.77489978e-01,\n",
       "         -3.08816880e-01, -5.47034517e-02, -5.40437818e-01,\n",
       "          2.38176048e-01],\n",
       "        [ 2.49646842e-01, -3.03453058e-01,  1.15997970e-01,\n",
       "         -3.42069454e-02, -7.67417550e-01, -6.24690056e-02,\n",
       "         -1.77189186e-02, -1.29862666e-01,  2.40427814e-02,\n",
       "         -1.21608078e-01],\n",
       "        [-3.74986351e-01,  1.01605523e-02,  3.52843940e-01,\n",
       "         -1.43632308e-01, -1.95397422e-01,  3.61000955e-01,\n",
       "          2.11407498e-01,  3.65612596e-01, -3.17836404e-01,\n",
       "         -6.25988841e-01],\n",
       "        [ 2.27664664e-01,  1.78816170e-01,  4.62238759e-01,\n",
       "         -3.22040081e-01, -1.96969852e-01, -7.26505220e-01,\n",
       "          8.70329216e-02,  1.33187994e-01,  6.35036230e-02,\n",
       "          1.84009716e-01],\n",
       "        [-3.29805732e-01,  1.78740248e-01,  2.98772097e-01,\n",
       "          2.82582343e-01, -4.42317687e-02, -6.87361181e-01,\n",
       "         -8.15872788e-01, -4.88489792e-02, -1.29102096e-01,\n",
       "          1.16535798e-01],\n",
       "        [-1.91007689e-01,  7.59835064e-01, -3.36306721e-01,\n",
       "          7.52870739e-02,  8.24108958e-01, -3.64166826e-01,\n",
       "         -1.73481822e-01, -3.00650358e-01, -6.15588367e-01,\n",
       "         -6.88650250e-01],\n",
       "        [-1.75469816e-01,  1.52116731e-01,  9.03176218e-02,\n",
       "          3.73008043e-01,  2.16724947e-01, -2.72737861e-01,\n",
       "          2.82610118e-01,  3.93778682e-01, -4.53569651e-01,\n",
       "         -1.60220996e-01],\n",
       "        [-1.61727831e-01,  1.18835188e-01, -2.90762424e-01,\n",
       "          2.54768342e-01,  8.11694786e-02, -2.95161456e-01,\n",
       "          9.16508511e-02,  3.96986529e-02,  2.08108664e-01,\n",
       "          1.26595616e-01],\n",
       "        [-2.07820125e-02,  4.54137176e-01,  2.72391438e-01,\n",
       "          2.21361905e-01,  2.89475054e-01, -6.33009017e-01,\n",
       "         -5.51000655e-01, -1.27351269e-01, -2.79856771e-01,\n",
       "         -4.36764508e-01],\n",
       "        [ 3.39417338e-01,  3.08125436e-01, -1.45772666e-01,\n",
       "         -4.55800354e-01,  2.87193328e-01,  3.52162361e-01,\n",
       "         -4.00994867e-01, -5.38230389e-02, -3.99308980e-01,\n",
       "         -7.89730772e-02],\n",
       "        [-1.97483197e-01, -2.14670718e-01, -2.37942711e-01,\n",
       "         -6.65173531e-02,  9.22914594e-02, -1.77709952e-01,\n",
       "         -1.15211280e-02,  1.23751663e-01,  4.82111275e-02,\n",
       "          4.16245162e-02],\n",
       "        [-7.98799694e-02, -3.52538735e-01, -2.63291836e-01,\n",
       "         -2.33636200e-01, -6.90442443e-01,  6.74823761e-01,\n",
       "          1.52402028e-01,  3.26771200e-01,  1.72015131e-01,\n",
       "          1.93171605e-01],\n",
       "        [ 8.62841234e-02, -3.53831239e-02, -1.12871736e-01,\n",
       "          5.58051914e-02, -3.15504909e-01,  1.91847414e-01,\n",
       "          1.22111790e-01, -5.25113046e-01,  1.61376595e-01,\n",
       "          2.70622019e-02],\n",
       "        [-9.22921374e-02,  5.98747671e-01, -2.32419714e-01,\n",
       "          1.16880372e-01,  3.73447061e-01, -6.72433674e-01,\n",
       "          1.81224555e-01,  2.69221276e-01, -1.89112514e-01,\n",
       "          5.51545396e-02],\n",
       "        [-3.26256007e-01,  5.92952780e-02,  1.94449842e-01,\n",
       "         -5.60483523e-02,  4.48359013e-01, -6.37054145e-02,\n",
       "         -3.43986243e-01,  3.79988968e-01, -3.24479371e-01,\n",
       "         -3.95058870e-01],\n",
       "        [-1.44729242e-02, -3.31993550e-01,  8.14616028e-03,\n",
       "          3.54145706e-01, -2.46157143e-02,  6.64878190e-02,\n",
       "          2.39528745e-01, -1.01937249e-01, -1.07204325e-01,\n",
       "         -3.95159245e-01],\n",
       "        [-1.39732629e-01, -2.18556389e-01,  2.92618096e-01,\n",
       "          2.40336284e-01, -1.11684818e-02, -6.53703809e-01,\n",
       "         -1.97101295e-01, -1.54479131e-01,  1.99284479e-01,\n",
       "          2.58898556e-01],\n",
       "        [ 3.00088406e-01, -1.90041095e-01,  1.18520990e-01,\n",
       "         -6.98100850e-02, -5.31737268e-01,  2.13551357e-01,\n",
       "          3.90976816e-01, -3.43464613e-01, -2.26445243e-01,\n",
       "         -3.86275388e-02],\n",
       "        [ 3.13643992e-01,  1.70739293e-01,  5.68093359e-02,\n",
       "         -2.48245165e-01,  1.14824094e-01, -2.13789642e-01,\n",
       "         -1.25640646e-01,  3.73638362e-01,  4.29377053e-03,\n",
       "          6.32944107e-02],\n",
       "        [ 2.50081867e-01, -7.83166051e-01,  3.65341604e-01,\n",
       "          1.79584220e-01, -8.81670177e-01,  2.75895484e-02,\n",
       "         -5.93126833e-01,  3.51127684e-01, -4.99537826e-01,\n",
       "         -2.28627045e-02],\n",
       "        [-5.14501750e-01,  2.86630005e-01,  1.58709839e-01,\n",
       "         -1.24088608e-01, -8.95311981e-02,  9.42496136e-02,\n",
       "          1.12636559e-01, -4.18114603e-01,  2.02735811e-02,\n",
       "         -1.59749255e-01],\n",
       "        [-5.84329702e-02, -3.77562612e-01, -1.91123500e-01,\n",
       "          8.53781030e-02,  1.22982837e-01,  2.20815726e-02,\n",
       "          3.35723720e-02, -1.88779205e-01,  1.39589518e-01,\n",
       "          5.84332347e-02],\n",
       "        [ 2.87985146e-01,  1.66441903e-01,  1.14623852e-01,\n",
       "          8.55966508e-02,  7.30665103e-02, -2.07400158e-01,\n",
       "          1.57834023e-01,  1.40090808e-01, -1.32796802e-02,\n",
       "         -4.23109442e-01],\n",
       "        [ 2.34866738e-02, -7.85530150e-01, -6.79154228e-03,\n",
       "         -2.63338774e-01,  1.52799994e-01,  2.26136029e-01,\n",
       "          3.13804924e-01,  1.40535161e-01,  6.51382357e-02,\n",
       "          2.08215222e-01],\n",
       "        [ 2.02425286e-01, -3.39934528e-01, -9.59732533e-02,\n",
       "          2.74832100e-01, -3.49991500e-01, -1.59794521e-02,\n",
       "         -2.15385959e-01,  2.12670684e-01, -1.16328366e-01,\n",
       "          2.26354316e-01],\n",
       "        [ 1.49072617e-01,  4.17143315e-01,  1.27952188e-01,\n",
       "          2.50286371e-01, -1.52108774e-01, -7.25332022e-01,\n",
       "          2.95890570e-01, -2.33290568e-01, -3.26006979e-01,\n",
       "          2.32418492e-01],\n",
       "        [-6.56860471e-01,  2.33309641e-01,  9.15472358e-02,\n",
       "         -3.76411118e-02, -8.71511638e-01,  3.37720275e-01,\n",
       "          1.60586670e-01,  1.06013134e-01,  8.05808157e-02,\n",
       "         -3.30438733e-01],\n",
       "        [-5.39875627e-01,  3.37823719e-01,  1.36353508e-01,\n",
       "         -3.62748414e-01,  2.01759323e-01, -3.89873236e-01,\n",
       "         -5.15892625e-01,  1.03828058e-01,  4.20697212e-01,\n",
       "          6.00150488e-02],\n",
       "        [-2.46730164e-01, -3.36056650e-02,  1.96043015e-01,\n",
       "          3.89318019e-01, -4.39374834e-01, -4.83727694e-01,\n",
       "         -1.20595030e-01,  2.61410981e-01, -7.27226883e-02,\n",
       "          1.21469885e-01],\n",
       "        [-7.01333955e-03, -9.71448235e-03,  1.58565134e-01,\n",
       "          8.64645988e-02,  5.67277409e-02, -5.54961106e-03,\n",
       "          2.00305149e-01, -2.24534631e-01,  2.15846553e-01,\n",
       "         -3.65453094e-01],\n",
       "        [-3.56172651e-01,  2.74336368e-01,  6.34890720e-02,\n",
       "          4.24527079e-02,  3.78568500e-01, -3.83550465e-01,\n",
       "         -3.52409244e-01, -7.05518797e-02,  2.60326326e-01,\n",
       "         -2.50163138e-01],\n",
       "        [-2.37510681e-01,  2.69622862e-01,  7.92639852e-02,\n",
       "          2.14250788e-01, -5.44514358e-01,  2.96475381e-01,\n",
       "         -3.74476492e-01, -1.37580723e-01,  1.69189468e-01,\n",
       "          1.42701730e-01],\n",
       "        [-3.57092172e-02,  2.88599521e-01, -9.50693488e-02,\n",
       "         -4.38591540e-01, -5.44483624e-02, -1.90957393e-02,\n",
       "         -2.40562558e-01,  9.15152133e-02,  1.93023250e-01,\n",
       "         -1.25816673e-01],\n",
       "        [-1.04050018e-01,  3.39949727e-01, -1.22805946e-01,\n",
       "          1.28920361e-01,  3.89491439e-01,  1.09151244e-01,\n",
       "          2.78852671e-01,  5.32305360e-01, -2.72003621e-01,\n",
       "         -8.69891644e-01],\n",
       "        [-3.55580419e-01, -5.19900620e-01, -4.13509011e-01,\n",
       "          1.58876657e-01,  5.20652592e-01,  8.68261382e-02,\n",
       "         -1.19266495e-01, -1.13233797e-01,  1.28758013e-01,\n",
       "          6.41329661e-02],\n",
       "        [ 1.66990563e-01,  1.64843753e-01,  2.76389062e-01,\n",
       "          1.80979609e-01, -6.63360775e-01,  1.26397789e-01,\n",
       "         -3.51362932e-03, -1.24539427e-01,  1.53586760e-01,\n",
       "         -2.11494520e-01],\n",
       "        [-6.31973073e-02,  2.33396366e-01,  6.45570338e-01,\n",
       "         -2.37823367e-01, -2.07077816e-01, -2.57226616e-01,\n",
       "          3.16914953e-02,  4.80967492e-01, -4.78151053e-01,\n",
       "         -9.88984585e-01],\n",
       "        [ 4.79652248e-02, -3.69667500e-01, -3.89791369e-01,\n",
       "         -9.21240151e-02,  1.19569458e-01, -2.15848848e-01,\n",
       "         -2.98119515e-01,  2.73350626e-01,  1.82000343e-02,\n",
       "          2.38464445e-01],\n",
       "        [-1.62067413e-01, -3.34291995e-01, -2.62228131e-01,\n",
       "         -3.56090844e-01, -1.33403670e-02, -1.13011390e-01,\n",
       "          1.64044369e-02, -1.28717422e-01,  2.01815844e-01,\n",
       "         -1.83288455e-01],\n",
       "        [ 1.51211083e-01,  7.80519471e-02, -5.22660494e-01,\n",
       "         -1.73032731e-01,  1.19557172e-01,  2.10228533e-01,\n",
       "          1.75063163e-01,  2.64085263e-01, -2.10581735e-01,\n",
       "         -5.60718954e-01],\n",
       "        [ 3.28185946e-01,  6.30436093e-02, -1.56871855e-01,\n",
       "         -2.10264370e-01, -7.73762167e-02, -2.99276292e-01,\n",
       "          2.81969398e-01, -4.51836020e-01,  3.70785743e-02,\n",
       "         -1.11869827e-01],\n",
       "        [-3.55827183e-01, -2.06821993e-01,  1.28419876e-01,\n",
       "         -6.30650595e-02,  1.93745151e-01,  2.14186698e-01,\n",
       "          2.35480651e-01, -3.50793958e-01, -6.29504919e-02,\n",
       "         -1.90700457e-01],\n",
       "        [-3.41276713e-02, -2.05558479e-01,  1.37426257e-01,\n",
       "          7.04108924e-02,  1.68876708e-01,  2.10648000e-01,\n",
       "         -2.49187917e-01, -2.65096631e-02, -2.90648453e-03,\n",
       "         -2.05722451e-02],\n",
       "        [-1.34459250e-02, -1.03278063e-01,  1.78302839e-01,\n",
       "         -4.97025311e-01,  7.27348328e-02,  2.84150124e-01,\n",
       "          1.90939933e-01, -3.35799545e-01,  2.54791737e-01,\n",
       "          1.91230178e-01],\n",
       "        [ 2.09055707e-01,  1.76508173e-01, -2.59479843e-02,\n",
       "         -3.05048972e-01,  2.82090306e-01, -3.32962304e-01,\n",
       "          5.42862825e-02,  3.22934598e-01, -1.34252742e-01,\n",
       "          3.77004772e-01],\n",
       "        [ 1.59303427e-01, -4.52282727e-01,  1.62242100e-01,\n",
       "         -4.03343648e-01,  2.98427455e-02, -5.34081638e-01,\n",
       "         -5.73176816e-02, -2.90214658e-01,  4.23304737e-01,\n",
       "         -9.80731845e-02],\n",
       "        [ 6.20464012e-02,  2.37716120e-02, -1.47406980e-01,\n",
       "          3.06354910e-01, -3.61288399e-01,  1.44976765e-01,\n",
       "         -1.53248727e-01,  1.67067036e-01,  8.66643786e-02,\n",
       "         -6.29722625e-02],\n",
       "        [-1.53391019e-01,  1.37286499e-01,  2.68711537e-01,\n",
       "         -1.29135072e-01,  4.20799814e-02,  1.55273199e-01,\n",
       "          1.61362678e-01, -2.83528388e-01,  3.06300759e-01,\n",
       "         -3.87514442e-01],\n",
       "        [ 2.07052439e-01,  2.49088407e-01,  1.93365723e-01,\n",
       "         -7.94774354e-01,  2.38157332e-01, -1.16905577e-01,\n",
       "         -2.04032540e-01,  2.93364435e-01,  5.24479374e-02,\n",
       "          1.08731225e-01],\n",
       "        [ 3.26843828e-01,  1.56121016e-01,  2.61171341e-01,\n",
       "         -2.58258373e-01, -3.68737996e-01, -7.79512450e-02,\n",
       "          8.31279233e-02, -3.33402783e-01, -1.64121076e-01,\n",
       "         -5.61710000e-01],\n",
       "        [-1.33121222e-01, -2.46359125e-01,  3.31222445e-01,\n",
       "          3.11949492e-01,  2.62032002e-01, -1.80027172e-01,\n",
       "          1.14697941e-01,  3.55684042e-01, -4.28925216e-01,\n",
       "         -3.71516258e-01],\n",
       "        [-8.58475149e-01, -6.32366762e-02, -8.43170941e-01,\n",
       "          3.16141963e-01,  1.21937040e-02,  4.86685246e-01,\n",
       "         -6.20936573e-01, -2.39540383e-01, -6.02101684e-01,\n",
       "          3.99732441e-01],\n",
       "        [ 3.83747011e-01, -4.17925477e-01, -4.99436557e-01,\n",
       "         -2.97157317e-01,  2.58962095e-01, -3.90218258e-01,\n",
       "          3.13138127e-01, -1.66115761e-01, -2.41509825e-01,\n",
       "          2.79180080e-01],\n",
       "        [ 2.88889408e-01,  4.71133143e-02,  1.04586080e-01,\n",
       "          3.40370864e-01, -4.99688536e-01, -8.17021802e-02,\n",
       "          2.40953371e-01, -8.27566981e-02, -3.53848726e-01,\n",
       "          1.21724993e-01],\n",
       "        [-4.52976190e-02, -4.79826450e-01,  7.02646598e-02,\n",
       "          4.66620356e-01, -3.91910940e-01, -1.91804394e-01,\n",
       "         -1.47988563e-02,  1.99065417e-01, -2.90405452e-01,\n",
       "          2.77888775e-01],\n",
       "        [-2.97797829e-01,  7.17086941e-02, -5.47313169e-02,\n",
       "          3.55181918e-02, -7.50764385e-02, -2.04572733e-02,\n",
       "          1.90574840e-01, -2.69882698e-02,  1.64414003e-01,\n",
       "          9.96755511e-02],\n",
       "        [-8.00652623e-01,  8.34798515e-02, -3.18273902e-01,\n",
       "         -1.65556848e-01, -1.54289436e-02,  3.02914351e-01,\n",
       "         -1.83379099e-01, -5.19964516e-01, -6.67162910e-02,\n",
       "          1.67117849e-01],\n",
       "        [-1.88067317e-01, -8.22918341e-02, -1.08355649e-01,\n",
       "          1.19233327e-02, -3.01283687e-01,  3.22810188e-02,\n",
       "          6.73691034e-02, -6.15390725e-02,  9.69358832e-02,\n",
       "         -2.35280693e-01],\n",
       "        [ 8.09300989e-02, -2.75642991e-01,  2.21877933e-01,\n",
       "         -2.79586375e-01,  1.84225410e-01, -1.96360886e-01,\n",
       "          8.83998349e-02, -5.75225949e-01, -2.82818943e-01,\n",
       "          1.20319821e-01],\n",
       "        [ 2.74843156e-01,  3.02113723e-02,  4.30733152e-02,\n",
       "          1.21328294e-01, -1.07445508e-01, -4.40554649e-01,\n",
       "         -2.21226752e-01,  3.10056776e-01,  4.04610820e-02,\n",
       "         -9.49691422e-03],\n",
       "        [ 2.37081543e-01, -5.87512143e-02, -2.14078594e-02,\n",
       "         -3.66896600e-01,  2.64601290e-01,  6.52586445e-02,\n",
       "         -1.93696827e-01, -8.59522745e-02, -2.64609575e-01,\n",
       "          1.48897141e-01],\n",
       "        [-2.01129273e-01, -2.67292827e-01,  1.17486581e-01,\n",
       "          2.27258354e-01,  6.14388101e-02, -1.27966434e-01,\n",
       "         -2.27440462e-01, -1.97535381e-01,  1.95538968e-01,\n",
       "          1.88984610e-02],\n",
       "        [ 3.29876423e-01, -2.29723044e-02,  1.20892465e-01,\n",
       "          3.00547015e-02, -2.59118319e-01,  2.88141426e-02,\n",
       "         -1.73117965e-01, -3.37703377e-01, -4.77670282e-01,\n",
       "         -5.74345887e-03],\n",
       "        [ 1.83530718e-01, -1.54143736e-01,  1.63868129e-01,\n",
       "          2.00516149e-01,  2.33680129e-01, -3.77794057e-02,\n",
       "         -4.42766696e-01,  1.70610100e-01,  1.53078899e-01,\n",
       "          2.42503449e-01],\n",
       "        [-4.01973911e-02,  2.73499399e-01, -6.03391945e-01,\n",
       "         -7.98661292e-01, -4.40003686e-02,  3.74527544e-01,\n",
       "          3.96298468e-01, -3.98933768e-01, -1.92403480e-01,\n",
       "          2.51218140e-01],\n",
       "        [-2.83210069e-01, -7.35336617e-02,  8.73319060e-03,\n",
       "         -2.12387845e-01,  6.70354143e-02, -3.81994784e-01,\n",
       "          4.69248533e-01,  7.74891451e-02,  2.46688113e-01,\n",
       "          1.23167917e-01],\n",
       "        [-2.94124961e-01,  6.09949492e-02,  3.08070689e-01,\n",
       "          2.50176966e-01, -7.13972807e-01,  2.88831830e-01,\n",
       "         -8.84593785e-01, -2.06757680e-01, -4.34299737e-01,\n",
       "          5.24490252e-02],\n",
       "        [-3.54862720e-01, -3.58552635e-01, -3.28609586e-01,\n",
       "          2.26363942e-01,  2.28605747e-01,  3.13403875e-01,\n",
       "         -4.44045722e-01, -4.52706188e-01,  8.11498836e-02,\n",
       "         -7.37915859e-02],\n",
       "        [ 1.88744739e-01, -2.85825700e-01, -2.01704577e-01,\n",
       "         -3.04291278e-01,  2.00048372e-01,  1.04540318e-01,\n",
       "          2.08322451e-01, -2.49202833e-01,  1.48227453e-01,\n",
       "         -3.15353662e-01],\n",
       "        [ 1.65603682e-02,  1.92710772e-01,  4.15339470e-02,\n",
       "          1.94640487e-01,  7.74309784e-02,  2.42986493e-02,\n",
       "         -3.51410329e-01, -5.52155543e-04,  2.37967685e-01,\n",
       "          6.62501678e-02],\n",
       "        [-3.96185160e-01,  4.31946725e-01,  1.00110196e-01,\n",
       "         -2.48858646e-01,  8.39806870e-02, -5.16041100e-01,\n",
       "          2.82793403e-01,  4.76053834e-01, -3.34317088e-02,\n",
       "          1.22862846e-01],\n",
       "        [ 1.36294290e-01,  8.74378085e-02, -4.25303996e-01,\n",
       "         -2.12574363e-01,  2.56150067e-01, -4.60849814e-02,\n",
       "          1.53616473e-01, -1.27979726e-01,  9.07185525e-02,\n",
       "          2.32805654e-01],\n",
       "        [ 7.29939267e-02, -4.56027657e-01,  2.99482584e-01,\n",
       "         -3.38295639e-01,  2.91841000e-01,  1.09304771e-01,\n",
       "          1.42248154e-01, -1.33973714e-02, -7.84438729e-01,\n",
       "          3.20906579e-01],\n",
       "        [-1.30640268e-01, -1.09531775e-01, -6.68471456e-01,\n",
       "          2.05670476e-01, -5.81175327e-01,  3.50454658e-01,\n",
       "         -1.85212150e-01, -4.53678459e-01,  1.98627457e-01,\n",
       "         -2.15002522e-01],\n",
       "        [-4.82492656e-01,  1.73067465e-01, -4.77260262e-01,\n",
       "         -2.57850170e-01,  8.97942036e-02,  2.43869394e-01,\n",
       "         -5.51252246e-01,  2.16562957e-01,  3.09001338e-02,\n",
       "          2.40538791e-01],\n",
       "        [ 1.49734288e-01, -8.40386301e-02,  2.16565996e-01,\n",
       "          3.80991660e-02, -3.64361763e-01, -6.22037768e-01,\n",
       "         -1.30402878e-01,  1.84837550e-01, -3.02741565e-02,\n",
       "          3.08090776e-01],\n",
       "        [ 2.19580770e-01, -2.62920529e-01,  2.34232232e-01,\n",
       "         -4.71215606e-01, -1.31733060e-01,  2.26752251e-01,\n",
       "          1.07417190e-02, -1.30930170e-01,  2.08560944e-01,\n",
       "         -5.68120599e-01],\n",
       "        [ 3.56799006e-01, -5.76818168e-01,  2.43029490e-01,\n",
       "          1.23501986e-01, -4.65538092e-02,  1.42910779e-01,\n",
       "          2.54278451e-01, -1.27449632e-01, -9.57518592e-02,\n",
       "         -3.06897998e-01],\n",
       "        [ 1.48692638e-01,  3.12561616e-02, -2.73078889e-01,\n",
       "         -5.03131986e-01, -1.62935197e-01, -1.30105957e-01,\n",
       "         -9.82906818e-02,  5.91381490e-01,  2.96663523e-01,\n",
       "         -4.33117449e-01],\n",
       "        [-1.62817836e-01, -1.38618931e-01,  8.55270773e-02,\n",
       "          1.24669680e-02,  3.05020604e-02, -8.55545849e-02,\n",
       "          1.65977553e-01, -3.03175837e-01,  1.09886438e-01,\n",
       "         -1.10065676e-01],\n",
       "        [-4.63751376e-01, -3.67979318e-01, -6.20832741e-02,\n",
       "          8.51320103e-02,  1.11695372e-01,  1.28406405e-01,\n",
       "         -1.99510112e-01,  9.94508043e-02,  1.50877252e-01,\n",
       "         -5.30463830e-02],\n",
       "        [-3.56794566e-01, -2.81549782e-01, -1.63002938e-01,\n",
       "         -5.13355397e-02,  3.24494690e-01,  2.37468570e-01,\n",
       "         -2.58131117e-01,  2.66201615e-01, -4.28067267e-01,\n",
       "          3.84989940e-02],\n",
       "        [-1.51535468e-02,  3.23301911e-01, -1.76627100e-01,\n",
       "          1.17793709e-01, -8.51489827e-02, -1.02488883e-01,\n",
       "         -2.04968855e-01,  1.72321305e-01, -5.60216069e-01,\n",
       "         -3.38425905e-01],\n",
       "        [-6.47524059e-01,  1.58165917e-01, -2.55355537e-01,\n",
       "          2.04996929e-01,  1.59865737e-01, -1.04873292e-01,\n",
       "         -6.01361573e-01,  4.66602072e-02,  1.70794856e-02,\n",
       "         -1.72721907e-01],\n",
       "        [ 5.86711876e-02, -4.73141491e-01, -4.26854551e-01,\n",
       "          2.89421976e-01,  6.22862242e-02,  2.88994014e-01,\n",
       "         -1.54161463e-02,  9.61861983e-02, -2.33169243e-01,\n",
       "          1.42099604e-01],\n",
       "        [-6.51261091e-01, -3.41938555e-01, -1.67991877e-01,\n",
       "          2.58710086e-01,  2.73902491e-02,  4.59788978e-01,\n",
       "         -6.20151997e-01, -2.89781392e-01,  9.98136252e-02,\n",
       "          2.23960131e-01],\n",
       "        [ 1.39162168e-01, -4.24061120e-01, -5.16197868e-02,\n",
       "         -1.88085407e-01, -2.12965403e-02,  2.15263844e-01,\n",
       "          1.57890961e-01, -1.41130641e-01,  9.64217111e-02,\n",
       "          8.05832222e-02],\n",
       "        [-6.17126189e-02,  1.86165065e-01,  2.56213903e-01,\n",
       "          8.12454522e-02, -3.68109882e-01, -5.11586368e-01,\n",
       "         -4.14894640e-01, -6.47784472e-02,  1.50774404e-01,\n",
       "          1.10307388e-01],\n",
       "        [ 1.41521186e-01,  3.04406196e-01, -4.99059319e-01,\n",
       "         -7.85839185e-02, -1.48070812e-01,  2.21597925e-02,\n",
       "          3.64677943e-02,  8.41850564e-02, -6.99070811e-01,\n",
       "          4.98815328e-02],\n",
       "        [-1.75131168e-02,  3.23075444e-01, -3.80313665e-01,\n",
       "          1.44220650e-01, -1.82464376e-01,  2.44094640e-01,\n",
       "          4.22063440e-01, -3.80093545e-01, -1.71915293e-01,\n",
       "         -2.52150763e-02],\n",
       "        [ 2.27146789e-01, -7.94872642e-01, -9.97984484e-02,\n",
       "         -2.76598632e-02, -4.67418998e-01, -5.68947345e-02,\n",
       "         -1.60899982e-01, -3.06766450e-01,  7.70772919e-02,\n",
       "          4.45580482e-01],\n",
       "        [-1.91737413e-01, -7.90632814e-02,  4.45630848e-01,\n",
       "         -8.71127769e-02, -2.85642862e-01,  2.95897841e-01,\n",
       "          3.86976808e-01, -1.40367731e-01, -4.43048716e-01,\n",
       "         -8.84642959e-01],\n",
       "        [-2.69782469e-02,  2.63089687e-01, -6.68052018e-01,\n",
       "         -2.13375777e-01,  2.19851390e-01,  1.55818045e-01,\n",
       "          6.23363815e-02, -3.60678206e-03, -2.66114771e-01,\n",
       "          2.07410112e-01],\n",
       "        [ 1.80801839e-01, -2.53127366e-01,  5.91295818e-03,\n",
       "          1.94480449e-01,  2.67074741e-02,  2.22333357e-01,\n",
       "         -1.28279269e-01,  1.09517276e-01,  1.20267928e-01,\n",
       "          1.18103974e-01],\n",
       "        [ 8.50606412e-02, -3.31805825e-01, -3.71563919e-02,\n",
       "          1.78259403e-01, -9.19658393e-02,  7.08513036e-02,\n",
       "          2.32430194e-02,  1.58158809e-01,  2.30580971e-01,\n",
       "          4.67666350e-02],\n",
       "        [-1.91639870e-01,  2.46184498e-01,  1.97348431e-01,\n",
       "          1.65917441e-01, -1.51051596e-01,  4.10695337e-02,\n",
       "          6.05151616e-02,  4.75313276e-01,  6.44710436e-02,\n",
       "         -7.15432703e-01],\n",
       "        [-7.20667958e-01,  9.49532613e-02,  1.37419418e-01,\n",
       "          6.88403696e-02, -4.88750398e-01,  4.22583699e-01,\n",
       "         -5.02530098e-01,  3.69411647e-01, -4.42651033e-01,\n",
       "         -8.94871652e-01],\n",
       "        [ 2.38065928e-01, -1.00995399e-01,  3.33155990e-01,\n",
       "          1.03520699e-01,  1.75308797e-03, -3.37384850e-01,\n",
       "         -2.51139224e-01, -1.28910050e-01,  2.34237999e-01,\n",
       "         -2.36975506e-01],\n",
       "        [-1.93857178e-01,  4.17293370e-01,  4.11046982e-01,\n",
       "         -4.55570996e-01,  2.68903047e-01, -2.41529867e-01,\n",
       "          2.37916574e-01,  2.96137452e-01, -4.72836733e-01,\n",
       "          7.36490299e-04],\n",
       "        [-2.44446009e-01, -1.46199033e-01, -4.18377876e-01,\n",
       "          7.42890015e-02, -4.04800028e-01,  2.00672761e-01,\n",
       "          2.04835981e-01, -3.92891675e-01,  3.61722529e-01,\n",
       "         -2.08281111e-02]], dtype=float32),\n",
       " array([-0.23763046, -0.07782163,  0.01015398, -0.06898063,  0.05236735,\n",
       "         0.21183339, -0.01645395, -0.00415486,  0.08490726, -0.0597618 ],\n",
       "       dtype=float32)]"
      ]
     },
     "execution_count": 12,
     "metadata": {},
     "output_type": "execute_result"
    }
   ],
   "source": [
    "model.get_weights()"
   ]
  }
 ],
 "metadata": {
  "kernelspec": {
   "display_name": "Python 3",
   "language": "python",
   "name": "python3"
  },
  "language_info": {
   "codemirror_mode": {
    "name": "ipython",
    "version": 3
   },
   "file_extension": ".py",
   "mimetype": "text/x-python",
   "name": "python",
   "nbconvert_exporter": "python",
   "pygments_lexer": "ipython3",
   "version": "3.11.4"
  },
  "orig_nbformat": 4
 },
 "nbformat": 4,
 "nbformat_minor": 2
}
