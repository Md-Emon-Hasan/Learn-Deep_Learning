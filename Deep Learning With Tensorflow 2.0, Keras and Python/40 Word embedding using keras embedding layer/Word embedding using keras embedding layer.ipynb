{
 "cells": [
  {
   "cell_type": "code",
   "execution_count": 1,
   "metadata": {},
   "outputs": [],
   "source": [
    "import numpy as np\n",
    "from tensorflow import keras\n",
    "from keras.preprocessing.text import one_hot\n",
    "from keras.preprocessing.sequence import pad_sequences\n",
    "from keras.models import Sequential\n",
    "from keras.layers import Dense\n",
    "from keras.layers import Flatten\n",
    "from keras.layers import Embedding"
   ]
  },
  {
   "cell_type": "code",
   "execution_count": 2,
   "metadata": {},
   "outputs": [],
   "source": [
    "reviews = [\n",
    "    'nice food',\n",
    "    'amazing restaurant',\n",
    "    'too good',\n",
    "    'just loved it',\n",
    "    'will go again',\n",
    "    'horrible food',\n",
    "    'never go there',\n",
    "    'poor service',\n",
    "    'poor quality',\n",
    "    'needs improvement'\n",
    "]\n",
    "\n",
    "sentiment = np.array([1,1,1,1,1,0,0,0,0,0])"
   ]
  },
  {
   "cell_type": "code",
   "execution_count": 6,
   "metadata": {},
   "outputs": [
    {
     "data": {
      "text/plain": [
       "[16, 26]"
      ]
     },
     "execution_count": 6,
     "metadata": {},
     "output_type": "execute_result"
    }
   ],
   "source": [
    "one_hot('amazing restaurant',30)"
   ]
  },
  {
   "cell_type": "code",
   "execution_count": 8,
   "metadata": {},
   "outputs": [
    {
     "data": {
      "text/plain": [
       "[[21, 27],\n",
       " [16, 26],\n",
       " [19, 19],\n",
       " [27, 5, 6],\n",
       " [8, 24, 14],\n",
       " [26, 27],\n",
       " [25, 24, 13],\n",
       " [29, 25],\n",
       " [29, 11],\n",
       " [10, 25]]"
      ]
     },
     "execution_count": 8,
     "metadata": {},
     "output_type": "execute_result"
    }
   ],
   "source": [
    "vocab_size = 30\n",
    "encoded_review = [one_hot(d,vocab_size) for d in reviews]\n",
    "encoded_review"
   ]
  },
  {
   "cell_type": "code",
   "execution_count": 9,
   "metadata": {},
   "outputs": [
    {
     "data": {
      "text/plain": [
       "array([[21, 27,  0,  0],\n",
       "       [16, 26,  0,  0],\n",
       "       [19, 19,  0,  0],\n",
       "       [27,  5,  6,  0],\n",
       "       [ 8, 24, 14,  0],\n",
       "       [26, 27,  0,  0],\n",
       "       [25, 24, 13,  0],\n",
       "       [29, 25,  0,  0],\n",
       "       [29, 11,  0,  0],\n",
       "       [10, 25,  0,  0]])"
      ]
     },
     "execution_count": 9,
     "metadata": {},
     "output_type": "execute_result"
    }
   ],
   "source": [
    "max_length = 4\n",
    "padded_reviews = pad_sequences(encoded_review,maxlen=max_length,padding='post')\n",
    "padded_reviews"
   ]
  },
  {
   "cell_type": "code",
   "execution_count": 14,
   "metadata": {},
   "outputs": [],
   "source": [
    "embeded_vector_size = 4\n",
    "\n",
    "model = Sequential()\n",
    "model.add(Embedding(vocab_size,embeded_vector_size,input_length=max_length,name='embedding'))\n",
    "model.add(Flatten())\n",
    "model.add(Dense(1,activation='sigmoid'))"
   ]
  },
  {
   "cell_type": "code",
   "execution_count": 11,
   "metadata": {},
   "outputs": [],
   "source": [
    "x = padded_reviews\n",
    "y = sentiment"
   ]
  },
  {
   "cell_type": "code",
   "execution_count": 15,
   "metadata": {},
   "outputs": [
    {
     "name": "stdout",
     "output_type": "stream",
     "text": [
      "Model: \"sequential_1\"\n",
      "_________________________________________________________________\n",
      " Layer (type)                Output Shape              Param #   \n",
      "=================================================================\n",
      " embedding (Embedding)       (None, 4, 4)              120       \n",
      "                                                                 \n",
      " flatten_1 (Flatten)         (None, 16)                0         \n",
      "                                                                 \n",
      " dense_1 (Dense)             (None, 1)                 17        \n",
      "                                                                 \n",
      "=================================================================\n",
      "Total params: 137 (548.00 Byte)\n",
      "Trainable params: 137 (548.00 Byte)\n",
      "Non-trainable params: 0 (0.00 Byte)\n",
      "_________________________________________________________________\n"
     ]
    }
   ],
   "source": [
    "model.compile(\n",
    "    optimizer='adam',\n",
    "    loss='binary_crossentropy',\n",
    "    metrics=['accuracy']\n",
    ")\n",
    "model.summary()"
   ]
  },
  {
   "cell_type": "code",
   "execution_count": 17,
   "metadata": {},
   "outputs": [
    {
     "data": {
      "text/plain": [
       "<keras.src.callbacks.History at 0x1fc9d90db90>"
      ]
     },
     "execution_count": 17,
     "metadata": {},
     "output_type": "execute_result"
    }
   ],
   "source": [
    "model.fit(x,y,epochs=50,verbose=0)"
   ]
  },
  {
   "cell_type": "code",
   "execution_count": 18,
   "metadata": {},
   "outputs": [
    {
     "name": "stdout",
     "output_type": "stream",
     "text": [
      "1/1 [==============================] - 0s 201ms/step - loss: 0.6131 - accuracy: 1.0000\n"
     ]
    }
   ],
   "source": [
    "loss,accuracy = model.evaluate(x,y)"
   ]
  },
  {
   "cell_type": "code",
   "execution_count": 19,
   "metadata": {},
   "outputs": [
    {
     "data": {
      "text/plain": [
       "array([[ 0.08070183,  0.02100974, -0.09067521, -0.07138447],\n",
       "       [-0.0241501 ,  0.02152501,  0.04667092, -0.0364188 ],\n",
       "       [-0.03058671, -0.04292606,  0.00089251,  0.01211164],\n",
       "       [-0.00753539, -0.01043778, -0.04583782,  0.03842207],\n",
       "       [ 0.00750222, -0.02659979, -0.01986915, -0.00264489],\n",
       "       [-0.01901425, -0.02764039, -0.09041022, -0.02494902],\n",
       "       [-0.07723352, -0.08533585,  0.02782264,  0.08545203],\n",
       "       [ 0.02166306, -0.03293419,  0.01965311,  0.04867846],\n",
       "       [-0.02185902, -0.09489334, -0.02579269,  0.03402081],\n",
       "       [ 0.02628097, -0.02374624, -0.01039713,  0.02475027],\n",
       "       [ 0.02978435,  0.03478578,  0.05500504, -0.0313365 ],\n",
       "       [ 0.08205021, -0.01543639,  0.09714382,  0.09598676],\n",
       "       [-0.04678925, -0.02341496, -0.04948578, -0.02303354],\n",
       "       [ 0.06906294,  0.06224997, -0.094098  , -0.08290987],\n",
       "       [-0.03646336, -0.00988923,  0.0724908 ,  0.06442767],\n",
       "       [-0.03013436, -0.03198782,  0.01417762, -0.04618493],\n",
       "       [-0.06214079, -0.01267773, -0.04817935,  0.10543979],\n",
       "       [ 0.04556717, -0.03214582,  0.0079445 ,  0.03795535],\n",
       "       [-0.0372131 , -0.01418348,  0.0336141 , -0.03695185],\n",
       "       [-0.07435187, -0.03400838, -0.07396195,  0.04402345],\n",
       "       [ 0.0375798 ,  0.04453168, -0.00247223,  0.01907945],\n",
       "       [-0.1044681 , -0.0587201 , -0.0475878 ,  0.09216208],\n",
       "       [-0.04084183, -0.04624427,  0.03922464,  0.04783094],\n",
       "       [-0.01995822,  0.04187404, -0.01910114, -0.02368211],\n",
       "       [-0.0007626 ,  0.05779114, -0.01720494, -0.04303505],\n",
       "       [ 0.08828737,  0.10447203,  0.06160563,  0.06984078],\n",
       "       [ 0.01648486,  0.0947467 , -0.03534509, -0.03143407],\n",
       "       [-0.10217868, -0.02087257, -0.05642344,  0.06546275],\n",
       "       [-0.0477414 , -0.00415734,  0.02517413,  0.0155229 ],\n",
       "       [ 0.09050436,  0.04853005,  0.05620156, -0.02768662]],\n",
       "      dtype=float32)"
      ]
     },
     "execution_count": 19,
     "metadata": {},
     "output_type": "execute_result"
    }
   ],
   "source": [
    "model.get_layer('embedding').get_weights()[0]"
   ]
  },
  {
   "cell_type": "code",
   "execution_count": 20,
   "metadata": {},
   "outputs": [
    {
     "data": {
      "text/plain": [
       "30"
      ]
     },
     "execution_count": 20,
     "metadata": {},
     "output_type": "execute_result"
    }
   ],
   "source": [
    "weights = model.get_layer('embedding').get_weights()[0]\n",
    "len(weights)"
   ]
  },
  {
   "cell_type": "code",
   "execution_count": 22,
   "metadata": {},
   "outputs": [
    {
     "data": {
      "text/plain": [
       "array([-0.1044681 , -0.0587201 , -0.0475878 ,  0.09216208], dtype=float32)"
      ]
     },
     "execution_count": 22,
     "metadata": {},
     "output_type": "execute_result"
    }
   ],
   "source": [
    "weights[21]"
   ]
  },
  {
   "cell_type": "code",
   "execution_count": 23,
   "metadata": {},
   "outputs": [
    {
     "data": {
      "text/plain": [
       "array([-0.06214079, -0.01267773, -0.04817935,  0.10543979], dtype=float32)"
      ]
     },
     "execution_count": 23,
     "metadata": {},
     "output_type": "execute_result"
    }
   ],
   "source": [
    "weights[16]"
   ]
  }
 ],
 "metadata": {
  "kernelspec": {
   "display_name": "Python 3",
   "language": "python",
   "name": "python3"
  },
  "language_info": {
   "codemirror_mode": {
    "name": "ipython",
    "version": 3
   },
   "file_extension": ".py",
   "mimetype": "text/x-python",
   "name": "python",
   "nbconvert_exporter": "python",
   "pygments_lexer": "ipython3",
   "version": "3.11.4"
  },
  "orig_nbformat": 4
 },
 "nbformat": 4,
 "nbformat_minor": 2
}
